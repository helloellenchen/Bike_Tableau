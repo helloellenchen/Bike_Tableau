{
 "cells": [
  {
   "cell_type": "code",
   "execution_count": 1,
   "metadata": {},
   "outputs": [],
   "source": [
    "import pandas as pd\n",
    "import numpy as np\n",
    "import sys, os \n",
    "import csv\n",
    "import glob\n",
    "from datetime import datetime"
   ]
  },
  {
   "cell_type": "code",
   "execution_count": 2,
   "metadata": {},
   "outputs": [],
   "source": [
    "#we'll use glob to access the files, create a path to the csv's\n",
    "path =\"data/*.csv\"\n",
    "csv_list = glob.glob(path)"
   ]
  },
  {
   "cell_type": "code",
   "execution_count": 3,
   "metadata": {},
   "outputs": [],
   "source": [
    "#we'll use glob to access the files, create a path to the csv's\n",
    "path =\"data/*.csv\"\n",
    "csv_list = glob.glob(path)"
   ]
  },
  {
   "cell_type": "code",
   "execution_count": 4,
   "metadata": {},
   "outputs": [],
   "source": [
    "#use some loops to go through each csv file, write each line into a single open csv file\n",
    "with open('citi_ride.csv', 'a') as singleFile:\n",
    "    for csvFile in glob.glob(\"data/*.csv\"):\n",
    "        for line in open(csvFile, 'r'):\n",
    "            singleFile.write(line)"
   ]
  },
  {
   "cell_type": "code",
   "execution_count": 5,
   "metadata": {},
   "outputs": [
    {
     "name": "stderr",
     "output_type": "stream",
     "text": [
      "/Users/ellenchen/anaconda3/lib/python3.5/site-packages/IPython/core/interactiveshell.py:2785: DtypeWarning: Columns (0,3,5,6,7,9,10,11,13,14) have mixed types. Specify dtype option on import or set low_memory=False.\n",
      "  interactivity=interactivity, compiler=compiler, result=result)\n"
     ]
    }
   ],
   "source": [
    "#lets just take a quick look at it. \n",
    "df = pd.read_csv('citi_ride.csv')"
   ]
  },
  {
   "cell_type": "code",
   "execution_count": 6,
   "metadata": {},
   "outputs": [],
   "source": [
    "\n",
    "#another method for Reference\n",
    "#from glob import glob\n",
    " \n",
    "#with open('main.csv', 'a') as singleFile:\n",
    "   # for csv in glob('*.csv'):\n",
    "        #if csv == 'main.csv':\n",
    "            #pass\n",
    "        #else:\n",
    "           # for line in open(csv, 'r'):\n",
    "               # singleFile.write(line)"
   ]
  },
  {
   "cell_type": "code",
   "execution_count": 7,
   "metadata": {},
   "outputs": [
    {
     "data": {
      "text/html": [
       "<div>\n",
       "<style scoped>\n",
       "    .dataframe tbody tr th:only-of-type {\n",
       "        vertical-align: middle;\n",
       "    }\n",
       "\n",
       "    .dataframe tbody tr th {\n",
       "        vertical-align: top;\n",
       "    }\n",
       "\n",
       "    .dataframe thead th {\n",
       "        text-align: right;\n",
       "    }\n",
       "</style>\n",
       "<table border=\"1\" class=\"dataframe\">\n",
       "  <thead>\n",
       "    <tr style=\"text-align: right;\">\n",
       "      <th></th>\n",
       "      <th>Trip Duration</th>\n",
       "      <th>Start Time</th>\n",
       "      <th>Stop Time</th>\n",
       "      <th>Start Station ID</th>\n",
       "      <th>Start Station Name</th>\n",
       "      <th>Start Station Latitude</th>\n",
       "      <th>Start Station Longitude</th>\n",
       "      <th>End Station ID</th>\n",
       "      <th>End Station Name</th>\n",
       "      <th>End Station Latitude</th>\n",
       "      <th>End Station Longitude</th>\n",
       "      <th>Bike ID</th>\n",
       "      <th>User Type</th>\n",
       "      <th>Birth Year</th>\n",
       "      <th>Gender</th>\n",
       "    </tr>\n",
       "  </thead>\n",
       "  <tbody>\n",
       "    <tr>\n",
       "      <th>0</th>\n",
       "      <td>362</td>\n",
       "      <td>2017-09-01 00:00:17</td>\n",
       "      <td>2017-09-01 00:06:19</td>\n",
       "      <td>3331</td>\n",
       "      <td>Riverside Dr &amp; W 104 St</td>\n",
       "      <td>40.8013</td>\n",
       "      <td>-73.9711</td>\n",
       "      <td>3328</td>\n",
       "      <td>W 100 St &amp; Manhattan Ave</td>\n",
       "      <td>40.795</td>\n",
       "      <td>-73.9645</td>\n",
       "      <td>14530</td>\n",
       "      <td>Subscriber</td>\n",
       "      <td>1993</td>\n",
       "      <td>1</td>\n",
       "    </tr>\n",
       "    <tr>\n",
       "      <th>1</th>\n",
       "      <td>188</td>\n",
       "      <td>2017-09-01 00:00:21</td>\n",
       "      <td>2017-09-01 00:03:30</td>\n",
       "      <td>3101</td>\n",
       "      <td>N 12 St &amp; Bedford Ave</td>\n",
       "      <td>40.7208</td>\n",
       "      <td>-73.9548</td>\n",
       "      <td>3100</td>\n",
       "      <td>Nassau Ave &amp; Newell St</td>\n",
       "      <td>40.7248</td>\n",
       "      <td>-73.9475</td>\n",
       "      <td>15475</td>\n",
       "      <td>Subscriber</td>\n",
       "      <td>1988</td>\n",
       "      <td>1</td>\n",
       "    </tr>\n",
       "    <tr>\n",
       "      <th>2</th>\n",
       "      <td>305</td>\n",
       "      <td>2017-09-01 00:00:25</td>\n",
       "      <td>2017-09-01 00:05:30</td>\n",
       "      <td>3140</td>\n",
       "      <td>1 Ave &amp; E 78 St</td>\n",
       "      <td>40.7714</td>\n",
       "      <td>-73.9535</td>\n",
       "      <td>3141</td>\n",
       "      <td>1 Ave &amp; E 68 St</td>\n",
       "      <td>40.765</td>\n",
       "      <td>-73.9582</td>\n",
       "      <td>30346</td>\n",
       "      <td>Subscriber</td>\n",
       "      <td>1969</td>\n",
       "      <td>1</td>\n",
       "    </tr>\n",
       "  </tbody>\n",
       "</table>\n",
       "</div>"
      ],
      "text/plain": [
       "  Trip Duration           Start Time            Stop Time Start Station ID  \\\n",
       "0           362  2017-09-01 00:00:17  2017-09-01 00:06:19             3331   \n",
       "1           188  2017-09-01 00:00:21  2017-09-01 00:03:30             3101   \n",
       "2           305  2017-09-01 00:00:25  2017-09-01 00:05:30             3140   \n",
       "\n",
       "        Start Station Name Start Station Latitude Start Station Longitude  \\\n",
       "0  Riverside Dr & W 104 St                40.8013                -73.9711   \n",
       "1    N 12 St & Bedford Ave                40.7208                -73.9548   \n",
       "2          1 Ave & E 78 St                40.7714                -73.9535   \n",
       "\n",
       "  End Station ID          End Station Name End Station Latitude  \\\n",
       "0           3328  W 100 St & Manhattan Ave               40.795   \n",
       "1           3100    Nassau Ave & Newell St              40.7248   \n",
       "2           3141           1 Ave & E 68 St               40.765   \n",
       "\n",
       "  End Station Longitude Bike ID   User Type Birth Year Gender  \n",
       "0              -73.9645   14530  Subscriber       1993      1  \n",
       "1              -73.9475   15475  Subscriber       1988      1  \n",
       "2              -73.9582   30346  Subscriber       1969      1  "
      ]
     },
     "execution_count": 7,
     "metadata": {},
     "output_type": "execute_result"
    }
   ],
   "source": [
    "df.head(3)"
   ]
  },
  {
   "cell_type": "code",
   "execution_count": null,
   "metadata": {},
   "outputs": [],
   "source": [
    "#another Referencehttps://blog.devdon.com/?p=3229 for another method and never try the code is as followings\n",
    "#from glob import glob\n",
    " \n",
    "#with open('main.csv', 'a') as singleFile:\n",
    "#    for csv in glob('*.csv'):\n",
    " #       if csv == 'main.csv':\n",
    "#            pass\n",
    "#        else:\n",
    " #           for line in open(csv, 'r'):\n",
    "#                singleFile.write(line)\n",
    "#"
   ]
  }
 ],
 "metadata": {
  "kernelspec": {
   "display_name": "Python 3",
   "language": "python",
   "name": "python3"
  },
  "language_info": {
   "codemirror_mode": {
    "name": "ipython",
    "version": 3
   },
   "file_extension": ".py",
   "mimetype": "text/x-python",
   "name": "python",
   "nbconvert_exporter": "python",
   "pygments_lexer": "ipython3",
   "version": "3.5.5"
  }
 },
 "nbformat": 4,
 "nbformat_minor": 2
}
